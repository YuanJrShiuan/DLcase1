{
 "cells": [
  {
   "cell_type": "markdown",
   "metadata": {},
   "source": [
    "# Assignment 2"
   ]
  },
  {
   "cell_type": "markdown",
   "metadata": {},
   "source": [
    "**Problem 1.** We want to build a 1-hidden-layer neural network for two-classification problem. Implement the layer_size() function to define the size of each layer.\n",
    "<br />\n",
    "**Hint:**\n",
    "1. The network has one input layer, one hidden layer and one output layer\n",
    "2. Size of input layer= size of each sample; size of hidden layer (up to you); size of output layer = 1.\n"
   ]
  },
  {
   "cell_type": "code",
   "execution_count": 57,
   "metadata": {},
   "outputs": [],
   "source": [
    "def layer_size(X,Y,hidden_size):\n",
    "    '''\n",
    "    X: input dataset (shape: n*m_samples) ！不一定为方阵 ！\n",
    "    Y : groud truth vector (1*n_samples)\n",
    "    '''\n",
    "    ###input size\n",
    "    input_s= np.shape(X)[1]\n",
    "    ###hidden size \n",
    "    hidden_s= hidden_size\n",
    "    ###output size\n",
    "    output_s= 1\n",
    "    \n",
    "    return input_s,hidden_s,output_s"
   ]
  },
  {
   "cell_type": "markdown",
   "metadata": {},
   "source": [
    "\n",
    "**Problem 2.** Implement initialize() to initialize parameters in neural networks by using np.random."
   ]
  },
  {
   "cell_type": "code",
   "execution_count": 53,
   "metadata": {},
   "outputs": [],
   "source": [
    "def initialize(input_s,hidden_s,output_s):\n",
    "    '''\n",
    "    we need to initialize two sets of parameters:\n",
    "    W1 -- weight matrix of shape (hidden_s, input_s)\n",
    "    b1 -- bias vector of shape (hidden_s, 1)\n",
    "    W2 -- weight matrix of shape (output_s, hidden_s)\n",
    "    b2 -- bias vector of shape (output_s, 1)\n",
    "    '''\n",
    "    W1 = np.random.uniform(0,1,(hidden_s,input_s))\n",
    "    b1 = np.random.uniform(0,1,(hidden_s,1))\n",
    "    W2 = np.random.uniform(0,1,(output_s, hidden_s))\n",
    "    b2 = np.random.uniform(0,1)\n",
    "    \n",
    "    params = {'W1':W1,'b1':b1,'W2':W2,'b2':b2}\n",
    "    \n",
    "    return params"
   ]
  },
  {
   "cell_type": "markdown",
   "metadata": {},
   "source": [
    "\n",
    "**Problem 3.** Implement forward()\n",
    "<br >\n",
    "**Hint:**\n",
    "1. Given X and params\n",
    "2. Calculate $H1=W1X+b1$; $A1=tanh(H1)$\n",
    "3. Caculate $H2=W2A1+b2$;$A2=sigmoid(H2)$\n",
    "4. Store H1,H2,A1,A2 in a dictionary and return\n"
   ]
  },
  {
   "cell_type": "code",
   "execution_count": 104,
   "metadata": {},
   "outputs": [],
   "source": [
    "def forward(X,params):\n",
    "    ###set parametes\n",
    "    W1 = params['W1']\n",
    "    b1 = params['b1']\n",
    "    W2 = params['W2']\n",
    "    b2 = params['b2']\n",
    "    ###calculate H1,A1\n",
    "    ###your code\n",
    "    H1 = np.dot(W1,X.T) + b1  # shape(n,n)\n",
    "    A1 = np.tanh(H1) \n",
    "    ###calculate H2,A2\n",
    "    ###your code\n",
    "    H2 = np.dot(W2,A1) + b2 # shape(1,n)\n",
    "    A2 = sigmoid(H2)\n",
    "    ### store in dictionary\n",
    "    out={'H1':H1,'A1':A1,'H2':H2,'A2':A2}\n",
    "    \n",
    "    \n",
    "    return out\n",
    "\n",
    "def sigmoid(x): # wrap a function to compute sigmoid\n",
    "    return np.exp(x) / (1 + np.exp(x))"
   ]
  },
  {
   "cell_type": "markdown",
   "metadata": {},
   "source": [
    "\n",
    "**Problem 4.** Implement backward()\n",
    "1. The cost function is the same as logistic cost function in assignment 2\n",
    "2. Calculate the gradients of W1,b1,W2,b2 \n",
    "3. Store the gradients in a dictionary and return it\n",
    "4. Avoid using 'for' when calculate the gradient"
   ]
  },
  {
   "cell_type": "code",
   "execution_count": 105,
   "metadata": {},
   "outputs": [],
   "source": [
    "def backward(params,out,X,Y):\n",
    "    '''\n",
    "    calculate cost\n",
    "    calculate gradients:\n",
    "    dW1-- gradient of W1\n",
    "    db1-- gradient of b1\n",
    "    dW2-- gradient of b2\n",
    "    db2-- gradient of b2\n",
    "    \n",
    "    '''\n",
    "    W1 = params['W1']\n",
    "    b1 = params['b1']\n",
    "    W2 = params['W2']\n",
    "    b2 = params['b2']\n",
    "    H1 = out['H1']\n",
    "    A1 = out['A1']\n",
    "    H2 = out['H2']\n",
    "    A2 = out['A2']\n",
    "    m = X.shape[1]\n",
    "    ###calculate cost\n",
    "    cost = (-1/m)*np.sum(Y * np.log(A2+1e-5) + (1 - Y) * (np.log(1-A2+1e-5))) # 提高浮点精度可以避免数字过小造成\n",
    "                                                                              # 的溢出，并保证cost值存在\n",
    "    \n",
    "    ###calculate grad\n",
    "    dH2 = A2 - Y\n",
    "    dW2 = (1/m) * np.dot(dH2,A1.T) #要除以m的原因是，这里参数矩阵中的每一个参数都是m个样本对这个参数的影响之和\n",
    "    db2 = (1/m) * np.sum(dH2,axis=1,keepdims=True)\n",
    "    dH1 = np.multiply(np.dot(W2.T,dH2),1-np.power(A1,2))\n",
    "    dW1 = (1/m) * np.dot(dH1,X)\n",
    "    db1 = (1/m) * np.sum(dH1,axis=1,keepdims=True)\n",
    "    ###store in dictionary\n",
    "    grads = {'dW1':dW1,'db1':db1,'dW2':dW2,'db2':db2}\n",
    "    return cost,grads\n"
   ]
  },
  {
   "cell_type": "markdown",
   "metadata": {},
   "source": [
    "\n",
    "**Problem 5.** Implement optimize()\n"
   ]
  },
  {
   "cell_type": "code",
   "execution_count": 29,
   "metadata": {},
   "outputs": [],
   "source": [
    "def optimize(params,grads,learning_rate=0.01):\n",
    "    \"\"\"\n",
    "    update parameters and return them\n",
    "    W1=W1-learning_rate*dw1\n",
    "    \"\"\"\n",
    "    W1 = params['W1']\n",
    "    b1 = params['b1']\n",
    "    W2 = params['W2']\n",
    "    b2 = params['b2']\n",
    "    W1 = W1 - learning_rate*grads['dW1']\n",
    "    W2 = W2 - learning_rate*grads['dW2']\n",
    "    b1 = b1 - learning_rate*grads['db1']\n",
    "    b2 = b2 - learning_rate*grads['db2']\n",
    "    params = {'W1':W1,'b1':b1,'W2':W2,'b2':b2}\n",
    "    return params\n"
   ]
  },
  {
   "cell_type": "markdown",
   "metadata": {},
   "source": [
    "\n",
    "**Problem 6.** Merge all the above functions into a model, implement model() function\n",
    "1. Define the size of each layer\n",
    "2. Initialze parameters\n",
    "3. Forward propogation\n",
    "4. Backward propogation\n",
    "5. Update parameters\n",
    "6. Return parameters"
   ]
  },
  {
   "cell_type": "code",
   "execution_count": 103,
   "metadata": {},
   "outputs": [],
   "source": [
    "def model(X,Y,hidden_size,learning_rate,num_iterations):\n",
    "    input_s,hidden_s,output_s = layer_size(X,Y,hidden_size)\n",
    "    params = initialize(input_s,hidden_s,output_s)\n",
    "    costs = []\n",
    "    for i in range(num_iterations):\n",
    "        out = forward(X,params)\n",
    "        cost,grads = backward(params,out,X,Y)\n",
    "        if cost != np.nan:\n",
    "            costs.append(cost)\n",
    "        if i % 1000 == 0:\n",
    "            print(\"Cost after iteration \",i,\"cost:\",cost)\n",
    "        if (abs(cost - costs[i-1]) <= 0.00001 and i > 0) or np.sum(costs == np.nan) >=50:\n",
    "            # When testing the code, some cost kept nan 'cause the optimal solution had been reached \n",
    "            # or learning rate is too high, so add this breaking condition.\n",
    "            if cost == np.nan:\n",
    "                print(\"Cost turns to none!\")\n",
    "            break\n",
    "        params = optimize(params,grads,learning_rate)\n",
    "    return params,costs\n"
   ]
  },
  {
   "cell_type": "markdown",
   "metadata": {},
   "source": [
    "\n",
    "**problem 7.** Implement predict() to predict the label.\n",
    "<br />\n",
    "**Hint:**\n",
    "1. Use the learned params to calculate $A2$.\n",
    "2. Convert the entries of $A2$ into 0 (if $A2$ <= 0.5) or 1 (if $A2$ > 0.5).\n",
    "3. Store the results in pred\\_Y and return it.\n"
   ]
  },
  {
   "cell_type": "code",
   "execution_count": 74,
   "metadata": {},
   "outputs": [],
   "source": [
    "def predict(params,X):\n",
    "    \"\"\"\n",
    "    return the predicted label of each sample\n",
    "    \"\"\"\n",
    "    ###set parametes\n",
    "    W1 = params['W1']\n",
    "    b1 = params['b1']\n",
    "    W2 = params['W2']\n",
    "    b2 = params['b2']\n",
    "    ###calculate H1,A1\n",
    "    ###your code\n",
    "    H1 = np.dot(W1,X.T) + b1  # shape(n,n)\n",
    "    A1 = np.tanh(H1) \n",
    "    ###calculate H2,A2\n",
    "    ###your code\n",
    "    H2 = np.dot(W2,A1) + b2 # shape(1,n)\n",
    "    A2 = sigmoid(H2)\n",
    "    ### pred_Y\n",
    "    pred_Y = np.zeros(A2.shape)\n",
    "    pred_Y[A2>0.5] = 1\n",
    "    return pred_Y\n",
    "    \n",
    "    "
   ]
  },
  {
   "cell_type": "markdown",
   "metadata": {},
   "source": [
    "\n",
    "**Problem 8.** \n",
    "1. Use the same dataset in assignment1 \n",
    "2. Implement train_test_split() to split the dataset into training and test (remember Standardization). \n",
    "3. Use model() and training set to train a neural network.\n",
    "4. Calculate accuracy in both training and test.\n",
    "5. Test different values of learning rate. plot costs to compare their performance. \n",
    "6. Compare the performance of neural network to logistic regression(assignment 2)"
   ]
  },
  {
   "cell_type": "code",
   "execution_count": 81,
   "metadata": {},
   "outputs": [
    {
     "name": "stderr",
     "output_type": "stream",
     "text": [
      "<ipython-input-70-bcbe25dd0e97>:21: RuntimeWarning: divide by zero encountered in log\n",
      "  cost = (-1/m)*np.sum(Y * np.log(A2) + (1 - Y) * (np.log(1-A2)))\n",
      "<ipython-input-70-bcbe25dd0e97>:21: RuntimeWarning: invalid value encountered in multiply\n",
      "  cost = (-1/m)*np.sum(Y * np.log(A2) + (1 - Y) * (np.log(1-A2)))\n"
     ]
    },
    {
     "name": "stdout",
     "output_type": "stream",
     "text": [
      "Cost after iteration  0 cost: nan\n",
      "Cost after iteration  1000 cost: 0.15113639600593148\n",
      "train_accuracy= 0.9974874371859297\n",
      "test_accuracy= 0.8771929824561403\n"
     ]
    }
   ],
   "source": [
    "from sklearn.datasets import load_breast_cancer\n",
    "import numpy as np\n",
    "import matplotlib.pyplot as plt\n",
    "\n",
    "\n",
    "def standardization(data):\n",
    "    mu = np.mean(data, axis=0)\n",
    "    sigma = np.std(data, axis=0)\n",
    "    return (data - mu) / sigma\n",
    "\n",
    "def train_test_split(X,Y,ratio):\n",
    "    train_x = X[:int(X.shape[0]*ratio),:]\n",
    "    test_x = X[int(X.shape[0]*ratio):,:]\n",
    "    train_y = Y[:int(X.shape[0]*ratio)]\n",
    "    test_y = Y[int(X.shape[0]*ratio):]\n",
    "    \n",
    "    return train_x,train_y,test_x,test_y\n",
    "\n",
    "cancer = load_breast_cancer()\n",
    "X = cancer.data\n",
    "Y = cancer.target\n",
    "train_x,train_y,test_x,test_y = train_test_split(X,Y,0.7)\n",
    "train_x,test_x = standardization(train_x),standardization(test_x)\n",
    "num = 10000\n",
    "params,costs = model(train_x,train_y,int(X.shape[0]/2),0.05,num)\n",
    "pred_train_Y = predict(params,train_x)\n",
    "pred_test_Y = predict(params,test_x)\n",
    "train_accuracy = np.mean(pred_train_Y == train_y)\n",
    "test_accuracy = np.mean(pred_test_Y == test_y)\n",
    "print('train_accuracy=',train_accuracy)\n",
    "print('test_accuracy=',test_accuracy)\n",
    "###use different learning rate and plot the costs\n",
    "###your code\n"
   ]
  },
  {
   "cell_type": "code",
   "execution_count": 106,
   "metadata": {},
   "outputs": [
    {
     "name": "stdout",
     "output_type": "stream",
     "text": [
      "Cost after iteration  0 cost: 136.34748961619687\n",
      "Cost after iteration  1000 cost: 1.020232280869435\n",
      "Cost after iteration  2000 cost: 0.6014346541996872\n",
      "Cost after iteration  3000 cost: 0.5155658229295599\n",
      "Cost after iteration  4000 cost: 0.4556364238375961\n",
      "Cost after iteration  5000 cost: 0.33297687678286125\n",
      "Cost after iteration  6000 cost: 0.2789697790952401\n",
      "Cost after iteration  7000 cost: 0.2377675382751478\n",
      "Cost after iteration  8000 cost: 0.20626622695318092\n",
      "Cost after iteration  9000 cost: 0.18265603501083452\n",
      "Cost after iteration  0 cost: 135.77881951015922\n",
      "Cost after iteration  1000 cost: 0.5964837056290326\n",
      "Cost after iteration  2000 cost: 0.46423278340882534\n",
      "Cost after iteration  3000 cost: 0.3917309880090234\n",
      "Cost after iteration  4000 cost: 0.33035823138577286\n",
      "Cost after iteration  5000 cost: 0.2903233361694015\n",
      "Cost after iteration  6000 cost: 0.268200459890605\n",
      "Cost after iteration  7000 cost: 0.25414019807996346\n",
      "Cost after iteration  0 cost: 136.01574929202565\n",
      "Cost after iteration  1000 cost: 0.2775498035509435\n",
      "Cost after iteration  2000 cost: 0.23258972802232544\n",
      "Cost after iteration  3000 cost: 0.08364512232034038\n",
      "Cost after iteration  4000 cost: 0.033704559787171046\n",
      "Cost after iteration  0 cost: 135.9471149926349\n",
      "Cost after iteration  1000 cost: 0.0150662078446318\n"
     ]
    },
    {
     "data": {
      "image/png": "[encoded data removed]",
      "text/plain": [
       "<Figure size 432x288 with 1 Axes>"
      ]
     },
     "metadata": {
      "needs_background": "light"
     },
     "output_type": "display_data"
    }
   ],
   "source": [
    "import matplotlib.pyplot as plt\n",
    "rates = [0.005,0.01,0.05,0.1]\n",
    "costls = []\n",
    "num = 10000\n",
    "for rate in rates:\n",
    "    params,costs = model(train_x,train_y,int(X.shape[0]/2),rate,num)\n",
    "    costls.append(costs[-1])\n",
    "plt.plot(rates,costls,linewidth = 3,color = 'r',marker = 'o',markerfacecolor='pink',markersize=10)\n",
    "plt.show()\n",
    "# According to the result, the cost is none when rate is more than 0.05"
   ]
  }
 ],
 "metadata": {
  "kernelspec": {
   "display_name": "Python 3",
   "language": "python",
   "name": "python3"
  },
  "language_info": {
   "codemirror_mode": {
    "name": "ipython",
    "version": 3
   },
   "file_extension": ".py",
   "mimetype": "text/x-python",
   "name": "python",
   "nbconvert_exporter": "python",
   "pygments_lexer": "ipython3",
   "version": "3.8.3"
  }
 },
 "nbformat": 4,
 "nbformat_minor": 2
}
